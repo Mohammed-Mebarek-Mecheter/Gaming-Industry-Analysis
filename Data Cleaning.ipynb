{
 "cells": [
  {
   "cell_type": "code",
   "execution_count": 1,
   "id": "initial_id",
   "metadata": {
    "collapsed": true,
    "ExecuteTime": {
     "end_time": "2023-09-11T12:28:41.833819500Z",
     "start_time": "2023-09-11T12:28:40.698961800Z"
    }
   },
   "outputs": [],
   "source": [
    "import pandas as pd"
   ]
  },
  {
   "cell_type": "code",
   "execution_count": 2,
   "outputs": [],
   "source": [
    "# Load the dataset\n",
    "df = pd.read_csv('data/vgsales.csv')"
   ],
   "metadata": {
    "collapsed": false,
    "ExecuteTime": {
     "end_time": "2023-09-11T12:28:49.722997300Z",
     "start_time": "2023-09-11T12:28:49.636187200Z"
    }
   },
   "id": "9b4c8660903535a1"
  },
  {
   "cell_type": "code",
   "execution_count": 3,
   "outputs": [
    {
     "data": {
      "text/plain": "(16598, 11)"
     },
     "execution_count": 3,
     "metadata": {},
     "output_type": "execute_result"
    }
   ],
   "source": [
    "df.shape"
   ],
   "metadata": {
    "collapsed": false,
    "ExecuteTime": {
     "end_time": "2023-09-11T12:35:37.551853100Z",
     "start_time": "2023-09-11T12:35:37.520306600Z"
    }
   },
   "id": "22d9d15f5ccd712e"
  },
  {
   "cell_type": "code",
   "execution_count": 4,
   "outputs": [],
   "source": [
    "# Drop rows with missing values in \"Publisher\" and \"Year\" columns\n",
    "df_cleaned = df.dropna(subset=['Publisher', 'Year'])"
   ],
   "metadata": {
    "collapsed": false,
    "ExecuteTime": {
     "end_time": "2023-09-11T12:38:22.457365100Z",
     "start_time": "2023-09-11T12:38:22.411661600Z"
    }
   },
   "id": "f2bf70657a15961a"
  },
  {
   "cell_type": "code",
   "execution_count": 6,
   "outputs": [
    {
     "data": {
      "text/plain": "(16291, 11)"
     },
     "execution_count": 6,
     "metadata": {},
     "output_type": "execute_result"
    }
   ],
   "source": [
    "df_cleaned.shape"
   ],
   "metadata": {
    "collapsed": false,
    "ExecuteTime": {
     "end_time": "2023-09-11T12:39:05.306019600Z",
     "start_time": "2023-09-11T12:39:05.286393600Z"
    }
   },
   "id": "2c4bd3a48b7587fb"
  },
  {
   "cell_type": "code",
   "execution_count": 7,
   "outputs": [],
   "source": [
    "df_cleaned.to_csv('cleaned_vgsales.csv', index=False)"
   ],
   "metadata": {
    "collapsed": false,
    "ExecuteTime": {
     "end_time": "2023-09-11T12:40:44.597536600Z",
     "start_time": "2023-09-11T12:40:44.323405400Z"
    }
   },
   "id": "b412c166a23f406e"
  }
 ],
 "metadata": {
  "kernelspec": {
   "display_name": "Python 3",
   "language": "python",
   "name": "python3"
  },
  "language_info": {
   "codemirror_mode": {
    "name": "ipython",
    "version": 2
   },
   "file_extension": ".py",
   "mimetype": "text/x-python",
   "name": "python",
   "nbconvert_exporter": "python",
   "pygments_lexer": "ipython2",
   "version": "2.7.6"
  }
 },
 "nbformat": 4,
 "nbformat_minor": 5
}
